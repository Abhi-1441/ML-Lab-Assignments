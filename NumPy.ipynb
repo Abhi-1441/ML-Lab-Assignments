{
 "cells": [
  {
   "cell_type": "markdown",
   "metadata": {},
   "source": [
    "### Load in NumPy (remember to pip install numpy first)"
   ]
  },
  {
   "cell_type": "code",
   "execution_count": 35,
   "metadata": {},
   "outputs": [],
   "source": [
    "import numpy as np"
   ]
  },
  {
   "cell_type": "code",
   "execution_count": 36,
   "metadata": {},
   "outputs": [
    {
     "data": {
      "text/plain": [
       "'1.20.3'"
      ]
     },
     "execution_count": 36,
     "metadata": {},
     "output_type": "execute_result"
    }
   ],
   "source": [
    "# Check numpy version\n",
    "np.__version__"
   ]
  },
  {
   "cell_type": "code",
   "execution_count": 37,
   "metadata": {},
   "outputs": [
    {
     "data": {
      "text/plain": [
       "['size',\n",
       " 'polydiv',\n",
       " 'sometrue',\n",
       " 'longlong',\n",
       " 'True_',\n",
       " 'ptp',\n",
       " 'interp',\n",
       " 'moveaxis',\n",
       " '__name__',\n",
       " 'swapaxes',\n",
       " '_pytesttester',\n",
       " 'bincount',\n",
       " 'exp2',\n",
       " 'log',\n",
       " 'logaddexp2',\n",
       " '__package__',\n",
       " 'sqrt',\n",
       " 'real_if_close',\n",
       " 'zeros',\n",
       " 'isneginf',\n",
       " 'polyval',\n",
       " 'WRAP',\n",
       " 'maximum',\n",
       " 'meshgrid',\n",
       " 'nanmedian',\n",
       " 'void0',\n",
       " 'unicode_',\n",
       " 'format_float_scientific',\n",
       " 'isnat',\n",
       " 'sinh',\n",
       " 'cumsum',\n",
       " 'AxisError',\n",
       " 'memmap',\n",
       " 'ubyte',\n",
       " 'fill_diagonal',\n",
       " 'eye',\n",
       " 'zeros_like',\n",
       " 'compat',\n",
       " 'bitwise_not',\n",
       " 'record',\n",
       " 'void',\n",
       " 'conjugate',\n",
       " 'ravel',\n",
       " 'fastCopyAndTranspose',\n",
       " 'ScalarType',\n",
       " 'bartlett',\n",
       " 'tril_indices_from',\n",
       " 'fabs',\n",
       " 'ALLOW_THREADS',\n",
       " 'float16',\n",
       " 'clongfloat',\n",
       " 'roll',\n",
       " 'isrealobj',\n",
       " 'ndenumerate',\n",
       " 'average',\n",
       " 'log1p',\n",
       " 'info',\n",
       " 'signbit',\n",
       " 'isposinf',\n",
       " 'fmod',\n",
       " 'get_printoptions',\n",
       " 'amax',\n",
       " 'blackman',\n",
       " 'test',\n",
       " 'indices',\n",
       " 'left_shift',\n",
       " '__builtins__',\n",
       " 'busday_count',\n",
       " 'modf',\n",
       " 'ascontiguousarray',\n",
       " 'uint8',\n",
       " 'searchsorted',\n",
       " 'reciprocal',\n",
       " 'histogram_bin_edges',\n",
       " 'alltrue',\n",
       " 'add_newdoc_ufunc',\n",
       " 'genfromtxt',\n",
       " 'complexfloating',\n",
       " 'atleast_2d',\n",
       " 'nanmean',\n",
       " 'full_like',\n",
       " 'FPE_OVERFLOW',\n",
       " 'iinfo',\n",
       " 'add_docstring',\n",
       " 'unpackbits',\n",
       " 'arange',\n",
       " 'Str0',\n",
       " 'reshape',\n",
       " 'resize',\n",
       " 'set_string_function',\n",
       " 'ix_',\n",
       " 'get_array_wrap',\n",
       " 'unravel_index',\n",
       " 'FPE_DIVIDEBYZERO',\n",
       " 'poly',\n",
       " 'bytes0',\n",
       " 'right_shift',\n",
       " 'imag',\n",
       " 'ulonglong',\n",
       " 'deg2rad',\n",
       " 'ERR_DEFAULT',\n",
       " 'histogram2d',\n",
       " 'apply_along_axis',\n",
       " 'array_repr',\n",
       " 'iscomplexobj',\n",
       " 'nanprod',\n",
       " 'nanpercentile',\n",
       " 'equal',\n",
       " 'float_power',\n",
       " 'ERR_RAISE',\n",
       " 'SHIFT_UNDERFLOW',\n",
       " 'load',\n",
       " 'ERR_CALL',\n",
       " 'var',\n",
       " 'recarray',\n",
       " 'busday_offset',\n",
       " 'testing',\n",
       " 'piecewise',\n",
       " '__config__',\n",
       " 'setbufsize',\n",
       " 'nan',\n",
       " 'std',\n",
       " 'longfloat',\n",
       " 'arctan',\n",
       " 'gradient',\n",
       " 'tile',\n",
       " 'set_printoptions',\n",
       " 's_',\n",
       " 'cross',\n",
       " '_globals',\n",
       " 'where',\n",
       " 'convolve',\n",
       " 'geterr',\n",
       " 'asmatrix',\n",
       " 'array_equiv',\n",
       " 'arcsinh',\n",
       " 'polyint',\n",
       " 'printoptions',\n",
       " 'ERR_IGNORE',\n",
       " 'flip',\n",
       " 'nanargmin',\n",
       " 'broadcast_arrays',\n",
       " 'outer',\n",
       " 'min',\n",
       " 'iscomplex',\n",
       " 'nansum',\n",
       " 'object0',\n",
       " 'float64',\n",
       " 'lcm',\n",
       " 'vstack',\n",
       " 'longdouble',\n",
       " 'vectorize',\n",
       " 'append',\n",
       " 'ones',\n",
       " 'broadcast_shapes',\n",
       " 'degrees',\n",
       " 'dstack',\n",
       " 'oldnumeric',\n",
       " 'power',\n",
       " 'bitwise_and',\n",
       " 'linalg',\n",
       " 'in1d',\n",
       " 'triu_indices',\n",
       " 'array',\n",
       " 'uint32',\n",
       " 'poly1d',\n",
       " 'sort',\n",
       " 'dtype',\n",
       " 'count_nonzero',\n",
       " 'bmat',\n",
       " 'take',\n",
       " 'round_',\n",
       " 'UFUNC_PYVALS_NAME',\n",
       " 'fromregex',\n",
       " 'vander',\n",
       " 'os',\n",
       " 'intersect1d',\n",
       " 'atleast_3d',\n",
       " 'vsplit',\n",
       " 'issubsctype',\n",
       " 'nonzero',\n",
       " 'geterrobj',\n",
       " 'mgrid',\n",
       " 'empty_like',\n",
       " 'around',\n",
       " 'isinf',\n",
       " 'SHIFT_DIVIDEBYZERO',\n",
       " 'trapz',\n",
       " 'trim_zeros',\n",
       " 'geterrcall',\n",
       " 'fliplr',\n",
       " 'histogram',\n",
       " 'lexsort',\n",
       " 'ogrid',\n",
       " 'nested_iters',\n",
       " 'mask_indices',\n",
       " '__mkl_version__',\n",
       " 'may_share_memory',\n",
       " 'MachAr',\n",
       " 'newaxis',\n",
       " 'short',\n",
       " 'who',\n",
       " 'choose',\n",
       " 'rec',\n",
       " 'min_scalar_type',\n",
       " 'isfinite',\n",
       " 'mod',\n",
       " 'rint',\n",
       " 'sinc',\n",
       " 'char',\n",
       " 'ERR_WARN',\n",
       " 'add',\n",
       " 'rad2deg',\n",
       " 'greater_equal',\n",
       " 'ldexp',\n",
       " 'issubclass_',\n",
       " 'cumprod',\n",
       " 'matrix',\n",
       " 'little_endian',\n",
       " 'math',\n",
       " '_add_newdoc_ufunc',\n",
       " 'unique',\n",
       " 'gcd',\n",
       " 'can_cast',\n",
       " 'invert',\n",
       " 'index_exp',\n",
       " 'multiply',\n",
       " 'string_',\n",
       " '__version__',\n",
       " 'cast',\n",
       " 'random',\n",
       " 'kaiser',\n",
       " 'alen',\n",
       " '__spec__',\n",
       " 'row_stack',\n",
       " 'atleast_1d',\n",
       " 'tril_indices',\n",
       " 'triu',\n",
       " 'empty',\n",
       " 'expm1',\n",
       " 'FPE_INVALID',\n",
       " 'ERR_PRINT',\n",
       " 'absolute',\n",
       " 'positive',\n",
       " 'Datetime64',\n",
       " 'sctype2char',\n",
       " 'show_config',\n",
       " 'loads',\n",
       " 'CLIP',\n",
       " '__deprecated_attrs__',\n",
       " 'setdiff1d',\n",
       " 'r_',\n",
       " 'sin',\n",
       " 'issubdtype',\n",
       " 'diagflat',\n",
       " 'typeDict',\n",
       " 'ones_like',\n",
       " 'repeat',\n",
       " 'timedelta64',\n",
       " 'nanargmax',\n",
       " 'putmask',\n",
       " 'all',\n",
       " 'flipud',\n",
       " 'deprecate',\n",
       " 'ndim',\n",
       " 'str_',\n",
       " 'get_include',\n",
       " 'logical_xor',\n",
       " 'uint64',\n",
       " 'binary_repr',\n",
       " 'complex64',\n",
       " 'hamming',\n",
       " 'mkl',\n",
       " 'deprecate_with_doc',\n",
       " 'byte_bounds',\n",
       " 'fromfile',\n",
       " 'float32',\n",
       " 'tensordot',\n",
       " 'log2',\n",
       " 'integer',\n",
       " 'not_equal',\n",
       " 'spacing',\n",
       " '__dir__',\n",
       " 'singlecomplex',\n",
       " 'shape',\n",
       " 'dsplit',\n",
       " 'sys',\n",
       " 'einsum_path',\n",
       " 'PINF',\n",
       " 'e',\n",
       " 'select',\n",
       " 'inf',\n",
       " 'nan_to_num',\n",
       " 'False_',\n",
       " 'mean',\n",
       " 'flexible',\n",
       " 'seterrcall',\n",
       " 'arctanh',\n",
       " 'clip',\n",
       " 'version',\n",
       " 'nanstd',\n",
       " 'logical_or',\n",
       " 'median',\n",
       " 'int64',\n",
       " 'pad',\n",
       " 'unsignedinteger',\n",
       " 'nextafter',\n",
       " 'NZERO',\n",
       " 'RankWarning',\n",
       " '__file__',\n",
       " 'infty',\n",
       " 'copysign',\n",
       " 'FPE_UNDERFLOW',\n",
       " 'warnings',\n",
       " 'divmod',\n",
       " 'c_',\n",
       " 'int0',\n",
       " '__doc__',\n",
       " '__loader__',\n",
       " 'ndarray',\n",
       " 'Bytes0',\n",
       " 'ceil',\n",
       " 'frexp',\n",
       " 'heaviside',\n",
       " 'use_hugepage',\n",
       " 'conj',\n",
       " 'frombuffer',\n",
       " 'MAY_SHARE_EXACT',\n",
       " 'datetime_data',\n",
       " 'histogramdd',\n",
       " 'argmin',\n",
       " 'apply_over_axes',\n",
       " 'diag',\n",
       " 'euler_gamma',\n",
       " 'inner',\n",
       " 'frompyfunc',\n",
       " 'lookfor',\n",
       " 'SHIFT_INVALID',\n",
       " 'flatiter',\n",
       " 'sign',\n",
       " 'isscalar',\n",
       " 'complex_',\n",
       " 'dot',\n",
       " 'uint16',\n",
       " 'asanyarray',\n",
       " 'ndindex',\n",
       " 'FLOATING_POINT_SUPPORT',\n",
       " 'SHIFT_OVERFLOW',\n",
       " 'base_repr',\n",
       " 'cos',\n",
       " 'inexact',\n",
       " 'stack',\n",
       " 'fromstring',\n",
       " 'greater',\n",
       " 'diag_indices_from',\n",
       " 'bool8',\n",
       " 'fmin',\n",
       " 'argsort',\n",
       " 'object_',\n",
       " '_UFUNC_API',\n",
       " 'hstack',\n",
       " 'fft',\n",
       " 'int8',\n",
       " 'isnan',\n",
       " 'full',\n",
       " 'polynomial',\n",
       " 'array_split',\n",
       " 'cbrt',\n",
       " 'copyto',\n",
       " '_financial_names',\n",
       " 'insert',\n",
       " 'identity',\n",
       " 'amin',\n",
       " 'PZERO',\n",
       " 'sort_complex',\n",
       " 'arccosh',\n",
       " 'cdouble',\n",
       " 'asscalar',\n",
       " 'square',\n",
       " 'triu_indices_from',\n",
       " 'RAISE',\n",
       " 'source',\n",
       " 'clongdouble',\n",
       " 'array2string',\n",
       " 'MAXDIMS',\n",
       " 'compress',\n",
       " 'ERR_LOG',\n",
       " 'polyadd',\n",
       " 'copy',\n",
       " 'TooHardError',\n",
       " 'bitwise_xor',\n",
       " 'recfromcsv',\n",
       " 'less',\n",
       " 'ravel_multi_index',\n",
       " 'polymul',\n",
       " 'logical_and',\n",
       " 'diagonal',\n",
       " 'int32',\n",
       " 'half',\n",
       " 'finfo',\n",
       " 'quantile',\n",
       " 'abs',\n",
       " 'savez',\n",
       " 'uint',\n",
       " 'array_str',\n",
       " 'result_type',\n",
       " 'block',\n",
       " 'bool_',\n",
       " 'polyfit',\n",
       " 'sctypes',\n",
       " 'number',\n",
       " 'loadtxt',\n",
       " 'matmul',\n",
       " 'hanning',\n",
       " 'numarray',\n",
       " 'column_stack',\n",
       " 'flatnonzero',\n",
       " 'log10',\n",
       " 'logspace',\n",
       " 'disp',\n",
       " 'ndfromtxt',\n",
       " '_mat',\n",
       " 'array_equal',\n",
       " 'put',\n",
       " 'less_equal',\n",
       " 'true_divide',\n",
       " 'common_type',\n",
       " 'rollaxis',\n",
       " 'argpartition',\n",
       " 'cosh',\n",
       " 'asfortranarray',\n",
       " 'emath',\n",
       " 'arcsin',\n",
       " 'NAN',\n",
       " 'ModuleDeprecationWarning',\n",
       " 'floor_divide',\n",
       " 'byte',\n",
       " 'mafromtxt',\n",
       " 'int_',\n",
       " 'savez_compressed',\n",
       " 'nanvar',\n",
       " 'extract',\n",
       " 'any',\n",
       " 'matrixlib',\n",
       " 'BUFSIZE',\n",
       " 'argwhere',\n",
       " 'trunc',\n",
       " 'remainder',\n",
       " 'asarray_chkfinite',\n",
       " 'is_busday',\n",
       " '__git_revision__',\n",
       " 'ComplexWarning',\n",
       " 'generic',\n",
       " 'safe_eval',\n",
       " 'nanmax',\n",
       " 'Uint64',\n",
       " 'csingle',\n",
       " 'corrcoef',\n",
       " '__cached__',\n",
       " 'character',\n",
       " 'round',\n",
       " 'single',\n",
       " 'compare_chararrays',\n",
       " 'ctypeslib',\n",
       " 'max',\n",
       " 'delete',\n",
       " 'require',\n",
       " 'percentile',\n",
       " 'packbits',\n",
       " 'intc',\n",
       " 'diff',\n",
       " 'linspace',\n",
       " 'hsplit',\n",
       " '__all__',\n",
       " 'digitize',\n",
       " 'divide',\n",
       " 'uint0',\n",
       " 'transpose',\n",
       " 'put_along_axis',\n",
       " 'NINF',\n",
       " 'nancumprod',\n",
       " '_NoValue',\n",
       " '__path__',\n",
       " 'UFUNC_BUFSIZE_DEFAULT',\n",
       " 'busdaycalendar',\n",
       " 'errstate',\n",
       " '__NUMPY_SETUP__',\n",
       " 'float_',\n",
       " 'intp',\n",
       " 'MAY_SHARE_BOUNDS',\n",
       " 'place',\n",
       " 'prod',\n",
       " 'roots',\n",
       " 'savetxt',\n",
       " 'ediff1d',\n",
       " 'VisibleDeprecationWarning',\n",
       " 'recfromtxt',\n",
       " 'nbytes',\n",
       " '__expired_functions__',\n",
       " 'shares_memory',\n",
       " 'save',\n",
       " 'take_along_axis',\n",
       " 'fromiter',\n",
       " 'set_numeric_ops',\n",
       " '_distributor_init',\n",
       " 'maximum_sctype',\n",
       " 'seterr',\n",
       " 'i0',\n",
       " 'rot90',\n",
       " 'pi',\n",
       " 'add_newdoc',\n",
       " 'kron',\n",
       " 'broadcast_to',\n",
       " 'correlate',\n",
       " 'double',\n",
       " 'longcomplex',\n",
       " 'complex128',\n",
       " 'cov',\n",
       " 'iterable',\n",
       " 'isreal',\n",
       " 'unwrap',\n",
       " 'isfortran',\n",
       " 'sctypeDict',\n",
       " 'split',\n",
       " 'polyder',\n",
       " 'mat',\n",
       " 'datetime64',\n",
       " 'asarray',\n",
       " 'diag_indices',\n",
       " 'ushort',\n",
       " 'geomspace',\n",
       " 'typename',\n",
       " '__getattr__',\n",
       " 'radians',\n",
       " 'broadcast',\n",
       " 'NaN',\n",
       " 'argmax',\n",
       " 'sum',\n",
       " 'negative',\n",
       " 'uintp',\n",
       " 'isin',\n",
       " 'nancumsum',\n",
       " 'tracemalloc_domain',\n",
       " 'core',\n",
       " 'einsum',\n",
       " 'Inf',\n",
       " 'partition',\n",
       " 'trace',\n",
       " 'minimum',\n",
       " 'promote_types',\n",
       " 'subtract',\n",
       " 'obj2sctype',\n",
       " 'nditer',\n",
       " 'DataSource',\n",
       " 'floor',\n",
       " 'floating',\n",
       " 'msort',\n",
       " 'arccos',\n",
       " 'Tester',\n",
       " 'tan',\n",
       " 'squeeze',\n",
       " 'mintypecode',\n",
       " 'tri',\n",
       " 'ma',\n",
       " 'nanquantile',\n",
       " 'format_float_positional',\n",
       " 'asfarray',\n",
       " 'fmax',\n",
       " 'fromfunction',\n",
       " 'nanmin',\n",
       " 'bitwise_or',\n",
       " 'bytes_',\n",
       " 'str0',\n",
       " 'find_common_type',\n",
       " 'arctan2',\n",
       " 'real',\n",
       " 'cumproduct',\n",
       " 'angle',\n",
       " 'logaddexp',\n",
       " 'tril',\n",
       " 'typecodes',\n",
       " 'int16',\n",
       " 'signedinteger',\n",
       " 'allclose',\n",
       " 'getbufsize',\n",
       " 'product',\n",
       " 'exp',\n",
       " 'seterrobj',\n",
       " 'cfloat',\n",
       " 'fix',\n",
       " 'setxor1d',\n",
       " 'expand_dims',\n",
       " 'issctype',\n",
       " 'logical_not',\n",
       " 'lib',\n",
       " 'vdot',\n",
       " 'union1d',\n",
       " 'concatenate',\n",
       " 'chararray',\n",
       " 'ufunc',\n",
       " 'hypot',\n",
       " 'format_parser',\n",
       " 'polysub',\n",
       " 'datetime_as_string',\n",
       " 'Infinity',\n",
       " 'uintc',\n",
       " 'tanh',\n",
       " 'isclose']"
      ]
     },
     "execution_count": 37,
     "metadata": {},
     "output_type": "execute_result"
    }
   ],
   "source": [
    "# Check all functions in numpy\n",
    "np.__dir__()"
   ]
  },
  {
   "cell_type": "markdown",
   "metadata": {},
   "source": [
    "### The Basics"
   ]
  },
  {
   "cell_type": "code",
   "execution_count": 38,
   "metadata": {},
   "outputs": [
    {
     "name": "stdout",
     "output_type": "stream",
     "text": [
      "[1 2 3]\n"
     ]
    }
   ],
   "source": [
    "a = np.array([1,2,3], dtype='int32')\n",
    "print(a)"
   ]
  },
  {
   "cell_type": "code",
   "execution_count": 39,
   "metadata": {},
   "outputs": [
    {
     "name": "stdout",
     "output_type": "stream",
     "text": [
      "[[9. 8. 7.]\n",
      " [6. 5. 4.]]\n"
     ]
    }
   ],
   "source": [
    "b = np.array([[9.0,8.0,7.0],[6.0,5.0,4.0]])\n",
    "print(b)"
   ]
  },
  {
   "cell_type": "code",
   "execution_count": 40,
   "metadata": {},
   "outputs": [
    {
     "data": {
      "text/plain": [
       "2"
      ]
     },
     "execution_count": 40,
     "metadata": {},
     "output_type": "execute_result"
    }
   ],
   "source": [
    "# Get Dimension\n",
    "b.ndim"
   ]
  },
  {
   "cell_type": "code",
   "execution_count": 41,
   "metadata": {},
   "outputs": [
    {
     "data": {
      "text/plain": [
       "(2, 3)"
      ]
     },
     "execution_count": 41,
     "metadata": {},
     "output_type": "execute_result"
    }
   ],
   "source": [
    "# Get Shape\n",
    "b.shape"
   ]
  },
  {
   "cell_type": "code",
   "execution_count": 42,
   "metadata": {},
   "outputs": [
    {
     "data": {
      "text/plain": [
       "dtype('int32')"
      ]
     },
     "execution_count": 42,
     "metadata": {},
     "output_type": "execute_result"
    }
   ],
   "source": [
    "# Get Type\n",
    "a.dtype"
   ]
  },
  {
   "cell_type": "code",
   "execution_count": 43,
   "metadata": {},
   "outputs": [
    {
     "data": {
      "text/plain": [
       "4"
      ]
     },
     "execution_count": 43,
     "metadata": {},
     "output_type": "execute_result"
    }
   ],
   "source": [
    "# Get Size\n",
    "a.itemsize"
   ]
  },
  {
   "cell_type": "code",
   "execution_count": 44,
   "metadata": {},
   "outputs": [
    {
     "data": {
      "text/plain": [
       "12"
      ]
     },
     "execution_count": 44,
     "metadata": {},
     "output_type": "execute_result"
    }
   ],
   "source": [
    "# Get total size\n",
    "a.nbytes"
   ]
  },
  {
   "cell_type": "code",
   "execution_count": 45,
   "metadata": {},
   "outputs": [
    {
     "data": {
      "text/plain": [
       "3"
      ]
     },
     "execution_count": 45,
     "metadata": {},
     "output_type": "execute_result"
    }
   ],
   "source": [
    "# Get number of elements\n",
    "a.size"
   ]
  },
  {
   "cell_type": "markdown",
   "metadata": {},
   "source": [
    "### Accessing/Changing specific elements, rows, columns, etc"
   ]
  },
  {
   "cell_type": "code",
   "execution_count": 46,
   "metadata": {},
   "outputs": [
    {
     "name": "stdout",
     "output_type": "stream",
     "text": [
      "[[ 1  2  3  4  5  6  7]\n",
      " [ 8  9 10 11 12 13 14]]\n"
     ]
    }
   ],
   "source": [
    "a = np.array([[1,2,3,4,5,6,7],[8,9,10,11,12,13,14]])\n",
    "print(a)"
   ]
  },
  {
   "cell_type": "code",
   "execution_count": 47,
   "metadata": {},
   "outputs": [
    {
     "data": {
      "text/plain": [
       "13"
      ]
     },
     "execution_count": 47,
     "metadata": {},
     "output_type": "execute_result"
    }
   ],
   "source": [
    "# Get a specific element [r, c]\n",
    "a[1, 5]"
   ]
  },
  {
   "cell_type": "code",
   "execution_count": 48,
   "metadata": {},
   "outputs": [
    {
     "data": {
      "text/plain": [
       "array([1, 2, 3, 4, 5, 6, 7])"
      ]
     },
     "execution_count": 48,
     "metadata": {},
     "output_type": "execute_result"
    }
   ],
   "source": [
    "# Get a specific row \n",
    "a[0, :]"
   ]
  },
  {
   "cell_type": "code",
   "execution_count": 49,
   "metadata": {},
   "outputs": [
    {
     "data": {
      "text/plain": [
       "array([ 3, 10])"
      ]
     },
     "execution_count": 49,
     "metadata": {},
     "output_type": "execute_result"
    }
   ],
   "source": [
    "# Get a specific column\n",
    "a[:, 2]"
   ]
  },
  {
   "cell_type": "code",
   "execution_count": 50,
   "metadata": {},
   "outputs": [
    {
     "data": {
      "text/plain": [
       "array([2, 4, 6])"
      ]
     },
     "execution_count": 50,
     "metadata": {},
     "output_type": "execute_result"
    }
   ],
   "source": [
    "# Getting a little more fancy [startindex:endindex:stepsize]\n",
    "a[0, 1:-1:2]"
   ]
  },
  {
   "cell_type": "code",
   "execution_count": 51,
   "metadata": {},
   "outputs": [
    {
     "name": "stdout",
     "output_type": "stream",
     "text": [
      "[[ 1  2  1  4  5  6  7]\n",
      " [ 8  9  2 11 12 20 14]]\n"
     ]
    }
   ],
   "source": [
    "a[1,5] = 20\n",
    "\n",
    "a[:,2] = [1,2]\n",
    "print(a)"
   ]
  },
  {
   "cell_type": "markdown",
   "metadata": {},
   "source": [
    "*3-d example"
   ]
  },
  {
   "cell_type": "code",
   "execution_count": 52,
   "metadata": {},
   "outputs": [
    {
     "name": "stdout",
     "output_type": "stream",
     "text": [
      "[[[1 2]\n",
      "  [3 4]]\n",
      "\n",
      " [[5 6]\n",
      "  [7 8]]]\n"
     ]
    }
   ],
   "source": [
    "b = np.array([[[1,2],[3,4]],[[5,6],[7,8]]])\n",
    "print(b)"
   ]
  },
  {
   "cell_type": "code",
   "execution_count": 53,
   "metadata": {},
   "outputs": [
    {
     "data": {
      "text/plain": [
       "4"
      ]
     },
     "execution_count": 53,
     "metadata": {},
     "output_type": "execute_result"
    }
   ],
   "source": [
    "# Get specific element (work outside in)\n",
    "b[0,1,1]"
   ]
  },
  {
   "cell_type": "code",
   "execution_count": 60,
   "metadata": {},
   "outputs": [],
   "source": [
    "# replace \n",
    "b[:,1,:] = [[9,9],[8,8]]"
   ]
  },
  {
   "cell_type": "code",
   "execution_count": 61,
   "metadata": {},
   "outputs": [
    {
     "data": {
      "text/plain": [
       "array([[[1, 2],\n",
       "        [9, 9]],\n",
       "\n",
       "       [[5, 6],\n",
       "        [8, 8]]])"
      ]
     },
     "execution_count": 61,
     "metadata": {},
     "output_type": "execute_result"
    }
   ],
   "source": [
    "b"
   ]
  },
  {
   "cell_type": "markdown",
   "metadata": {},
   "source": [
    "### Copy vs View"
   ]
  },
  {
   "cell_type": "code",
   "execution_count": 95,
   "metadata": {},
   "outputs": [
    {
     "name": "stdout",
     "output_type": "stream",
     "text": [
      "[42  2  3  4  5]\n",
      "[1 2 3 4 5]\n"
     ]
    }
   ],
   "source": [
    "arr = np.array([1, 2, 3, 4, 5])\n",
    "x = arr.copy()\n",
    "arr[0] = 42\n",
    "\n",
    "print(arr)\n",
    "print(x)"
   ]
  },
  {
   "cell_type": "code",
   "execution_count": 98,
   "metadata": {},
   "outputs": [
    {
     "name": "stdout",
     "output_type": "stream",
     "text": [
      "[42  2  3  4  5]\n",
      "[42  2  3  4  5]\n"
     ]
    }
   ],
   "source": [
    "arr = np.array([1, 2, 3, 4, 5])\n",
    "y = arr.view()\n",
    "arr[0] = 42\n",
    "\n",
    "print(arr)\n",
    "print(x)"
   ]
  },
  {
   "cell_type": "markdown",
   "metadata": {},
   "source": [
    "### Iterating"
   ]
  },
  {
   "cell_type": "code",
   "execution_count": 107,
   "metadata": {},
   "outputs": [
    {
     "name": "stdout",
     "output_type": "stream",
     "text": [
      "[1 2 3]\n",
      "[4 5 6]\n",
      "1 2 3 4 5 6 "
     ]
    }
   ],
   "source": [
    "arr = np.array([[1, 2, 3], [4, 5, 6]])\n",
    "\n",
    "for x in arr:\n",
    "    print(x)\n",
    "\n",
    "for x in arr:\n",
    "      for y in x:\n",
    "        print(y,end =\" \")"
   ]
  },
  {
   "cell_type": "markdown",
   "metadata": {},
   "source": [
    "### Splitting Array"
   ]
  },
  {
   "cell_type": "code",
   "execution_count": 108,
   "metadata": {},
   "outputs": [
    {
     "name": "stdout",
     "output_type": "stream",
     "text": [
      "[array([1, 2]), array([3, 4]), array([5, 6])]\n"
     ]
    }
   ],
   "source": [
    "arr = np.array([1, 2, 3, 4, 5, 6])\n",
    "\n",
    "newarr = np.array_split(arr, 3)\n",
    "\n",
    "print(newarr)"
   ]
  },
  {
   "cell_type": "code",
   "execution_count": 115,
   "metadata": {},
   "outputs": [
    {
     "name": "stdout",
     "output_type": "stream",
     "text": [
      "[array([[1, 2],\n",
      "       [3, 4]]), array([[5, 6],\n",
      "       [7, 8]]), array([[ 9, 10],\n",
      "       [11, 12]])]\n"
     ]
    }
   ],
   "source": [
    "#For 2-D arrays\n",
    "arr = np.array([[1, 2], [3, 4], [5, 6], [7, 8], [9, 10], [11, 12]])\n",
    "newarr = np.array_split(arr, 3)\n",
    "print(newarr)"
   ]
  },
  {
   "cell_type": "code",
   "execution_count": 118,
   "metadata": {},
   "outputs": [
    {
     "name": "stdout",
     "output_type": "stream",
     "text": [
      "[array([[ 1],\n",
      "       [ 4],\n",
      "       [ 7],\n",
      "       [10],\n",
      "       [13],\n",
      "       [16]]), array([[ 2],\n",
      "       [ 5],\n",
      "       [ 8],\n",
      "       [11],\n",
      "       [14],\n",
      "       [17]]), array([[ 3],\n",
      "       [ 6],\n",
      "       [ 9],\n",
      "       [12],\n",
      "       [15],\n",
      "       [18]])]\n"
     ]
    }
   ],
   "source": [
    "#Use the hsplit() method to split the 2-D array into three 2-D arrays along rows.\n",
    "arr = np.array([[1, 2, 3], [4, 5, 6], [7, 8, 9], [10, 11, 12], [13, 14, 15], [16, 17, 18]])\n",
    "\n",
    "newarr = np.hsplit(arr, 3)\n",
    "\n",
    "print(newarr)"
   ]
  },
  {
   "cell_type": "markdown",
   "metadata": {},
   "source": [
    "### Searching and Sorting"
   ]
  },
  {
   "cell_type": "code",
   "execution_count": 121,
   "metadata": {},
   "outputs": [
    {
     "name": "stdout",
     "output_type": "stream",
     "text": [
      "(array([3, 5, 6], dtype=int64),)\n",
      "[1 2 3 4 4 4 5]\n"
     ]
    }
   ],
   "source": [
    "arr = np.array([1, 2, 3, 4, 5, 4, 4])\n",
    "\n",
    "x = np.where(arr == 4)\n",
    "print(x)\n",
    "\n",
    "y= np.sort(arr)\n",
    "print(y)"
   ]
  },
  {
   "cell_type": "markdown",
   "metadata": {},
   "source": [
    "### Initializing Different Types of Arrays"
   ]
  },
  {
   "cell_type": "code",
   "execution_count": null,
   "metadata": {},
   "outputs": [],
   "source": [
    "# All 0s matrix\n",
    "np.zeros((2,3))"
   ]
  },
  {
   "cell_type": "code",
   "execution_count": 63,
   "metadata": {},
   "outputs": [
    {
     "data": {
      "text/plain": [
       "array([[[1, 1],\n",
       "        [1, 1]],\n",
       "\n",
       "       [[1, 1],\n",
       "        [1, 1]],\n",
       "\n",
       "       [[1, 1],\n",
       "        [1, 1]],\n",
       "\n",
       "       [[1, 1],\n",
       "        [1, 1]]])"
      ]
     },
     "execution_count": 63,
     "metadata": {},
     "output_type": "execute_result"
    }
   ],
   "source": [
    "# All 1s matrix\n",
    "np.ones((4,2,2), dtype='int32')"
   ]
  },
  {
   "cell_type": "code",
   "execution_count": 64,
   "metadata": {},
   "outputs": [
    {
     "data": {
      "text/plain": [
       "array([[99, 99],\n",
       "       [99, 99]])"
      ]
     },
     "execution_count": 64,
     "metadata": {},
     "output_type": "execute_result"
    }
   ],
   "source": [
    "# Any other number\n",
    "np.full((2,2), 99)"
   ]
  },
  {
   "cell_type": "code",
   "execution_count": 65,
   "metadata": {},
   "outputs": [
    {
     "data": {
      "text/plain": [
       "array([[4, 4, 4, 4, 4, 4, 4],\n",
       "       [4, 4, 4, 4, 4, 4, 4]])"
      ]
     },
     "execution_count": 65,
     "metadata": {},
     "output_type": "execute_result"
    }
   ],
   "source": [
    "# Any other number (full_like)\n",
    "np.full_like(a, 4)"
   ]
  },
  {
   "cell_type": "code",
   "execution_count": 74,
   "metadata": {},
   "outputs": [
    {
     "data": {
      "text/plain": [
       "array([[0.87496751, 0.69752043],\n",
       "       [0.24959004, 0.32485191],\n",
       "       [0.93029554, 0.289443  ],\n",
       "       [0.86295909, 0.3829033 ]])"
      ]
     },
     "execution_count": 74,
     "metadata": {},
     "output_type": "execute_result"
    }
   ],
   "source": [
    "# Random decimal numbers\n",
    "np.random.rand(4,2)"
   ]
  },
  {
   "cell_type": "code",
   "execution_count": 75,
   "metadata": {},
   "outputs": [
    {
     "data": {
      "text/plain": [
       "array([[ 0,  3, -3],\n",
       "       [-2, -4,  1],\n",
       "       [ 2,  2,  4]])"
      ]
     },
     "execution_count": 75,
     "metadata": {},
     "output_type": "execute_result"
    }
   ],
   "source": [
    "# Random Integer values\n",
    "np.random.randint(-4,8, size=(3,3))"
   ]
  },
  {
   "cell_type": "code",
   "execution_count": 76,
   "metadata": {},
   "outputs": [
    {
     "data": {
      "text/plain": [
       "array([[1., 0., 0., 0., 0.],\n",
       "       [0., 1., 0., 0., 0.],\n",
       "       [0., 0., 1., 0., 0.],\n",
       "       [0., 0., 0., 1., 0.],\n",
       "       [0., 0., 0., 0., 1.]])"
      ]
     },
     "execution_count": 76,
     "metadata": {},
     "output_type": "execute_result"
    }
   ],
   "source": [
    "# The identity matrix\n",
    "np.identity(5)"
   ]
  },
  {
   "cell_type": "code",
   "execution_count": 79,
   "metadata": {},
   "outputs": [
    {
     "name": "stdout",
     "output_type": "stream",
     "text": [
      "[[1 2 3]\n",
      " [1 2 3]\n",
      " [1 2 3]]\n"
     ]
    }
   ],
   "source": [
    "# Repeat an array\n",
    "arr = np.array([[1,2,3]])\n",
    "r1 = np.repeat(arr,3, axis=0)\n",
    "print(r1)"
   ]
  },
  {
   "cell_type": "code",
   "execution_count": 80,
   "metadata": {},
   "outputs": [
    {
     "name": "stdout",
     "output_type": "stream",
     "text": [
      "[[1. 1. 1. 1. 1.]\n",
      " [1. 1. 1. 1. 1.]\n",
      " [1. 1. 1. 1. 1.]\n",
      " [1. 1. 1. 1. 1.]\n",
      " [1. 1. 1. 1. 1.]]\n",
      "[[0. 0. 0.]\n",
      " [0. 9. 0.]\n",
      " [0. 0. 0.]]\n",
      "[[1. 1. 1. 1. 1.]\n",
      " [1. 0. 0. 0. 1.]\n",
      " [1. 0. 9. 0. 1.]\n",
      " [1. 0. 0. 0. 1.]\n",
      " [1. 1. 1. 1. 1.]]\n"
     ]
    }
   ],
   "source": [
    "output = np.ones((5,5))\n",
    "print(output)\n",
    "\n",
    "z = np.zeros((3,3))\n",
    "z[1,1] = 9\n",
    "print(z)\n",
    "\n",
    "output[1:-1,1:-1] = z\n",
    "print(output)"
   ]
  },
  {
   "cell_type": "markdown",
   "metadata": {},
   "source": [
    "##### Be careful when copying arrays!!!"
   ]
  },
  {
   "cell_type": "code",
   "execution_count": null,
   "metadata": {},
   "outputs": [],
   "source": [
    "a = np.array([1,2,3])\n",
    "b = a.copy()\n",
    "b[0] = 100\n",
    "\n",
    "print(a)"
   ]
  },
  {
   "cell_type": "markdown",
   "metadata": {},
   "source": [
    "### Mathematics"
   ]
  },
  {
   "cell_type": "code",
   "execution_count": null,
   "metadata": {},
   "outputs": [],
   "source": [
    "a = np.array([1,2,3,4])\n",
    "print(a)"
   ]
  },
  {
   "cell_type": "code",
   "execution_count": null,
   "metadata": {},
   "outputs": [],
   "source": [
    "a + 2"
   ]
  },
  {
   "cell_type": "code",
   "execution_count": null,
   "metadata": {},
   "outputs": [],
   "source": [
    "a - 2"
   ]
  },
  {
   "cell_type": "code",
   "execution_count": null,
   "metadata": {},
   "outputs": [],
   "source": [
    "a * 2"
   ]
  },
  {
   "cell_type": "code",
   "execution_count": null,
   "metadata": {},
   "outputs": [],
   "source": [
    "a / 2"
   ]
  },
  {
   "cell_type": "code",
   "execution_count": null,
   "metadata": {},
   "outputs": [],
   "source": [
    "b = np.array([1,0,1,0])\n",
    "a + b"
   ]
  },
  {
   "cell_type": "code",
   "execution_count": null,
   "metadata": {},
   "outputs": [],
   "source": [
    "a ** 2"
   ]
  },
  {
   "cell_type": "code",
   "execution_count": null,
   "metadata": {},
   "outputs": [],
   "source": [
    "# Take the sin\n",
    "np.cos(a)\n",
    "\n"
   ]
  },
  {
   "cell_type": "code",
   "execution_count": null,
   "metadata": {},
   "outputs": [],
   "source": [
    "# For a lot more (https://docs.scipy.org/doc/numpy/reference/routines.math.html)"
   ]
  },
  {
   "cell_type": "markdown",
   "metadata": {},
   "source": [
    "##### Linear Algebra"
   ]
  },
  {
   "cell_type": "code",
   "execution_count": 81,
   "metadata": {},
   "outputs": [
    {
     "name": "stdout",
     "output_type": "stream",
     "text": [
      "[[1. 1. 1.]\n",
      " [1. 1. 1.]]\n",
      "[[2 2]\n",
      " [2 2]\n",
      " [2 2]]\n"
     ]
    },
    {
     "data": {
      "text/plain": [
       "array([[6., 6.],\n",
       "       [6., 6.]])"
      ]
     },
     "execution_count": 81,
     "metadata": {},
     "output_type": "execute_result"
    }
   ],
   "source": [
    "a = np.ones((2,3))\n",
    "print(a)\n",
    "\n",
    "b = np.full((3,2), 2)\n",
    "print(b)\n",
    "\n",
    "np.matmul(a,b)"
   ]
  },
  {
   "cell_type": "code",
   "execution_count": 82,
   "metadata": {},
   "outputs": [
    {
     "data": {
      "text/plain": [
       "1.0"
      ]
     },
     "execution_count": 82,
     "metadata": {},
     "output_type": "execute_result"
    }
   ],
   "source": [
    "# Find the determinant\n",
    "c = np.identity(3)\n",
    "np.linalg.det(c)"
   ]
  },
  {
   "cell_type": "code",
   "execution_count": null,
   "metadata": {},
   "outputs": [],
   "source": [
    "## Reference docs (https://docs.scipy.org/doc/numpy/reference/routines.linalg.html)\n",
    "\n",
    "# Determinant\n",
    "# Trace\n",
    "# Singular Vector Decomposition\n",
    "# Eigenvalues\n",
    "# Matrix Norm\n",
    "# Inverse\n",
    "# Etc..."
   ]
  },
  {
   "cell_type": "markdown",
   "metadata": {},
   "source": [
    "##### Statistics"
   ]
  },
  {
   "cell_type": "code",
   "execution_count": 83,
   "metadata": {},
   "outputs": [
    {
     "data": {
      "text/plain": [
       "array([[1, 2, 3],\n",
       "       [4, 5, 6]])"
      ]
     },
     "execution_count": 83,
     "metadata": {},
     "output_type": "execute_result"
    }
   ],
   "source": [
    "stats = np.array([[1,2,3],[4,5,6]])\n",
    "stats"
   ]
  },
  {
   "cell_type": "code",
   "execution_count": 84,
   "metadata": {},
   "outputs": [
    {
     "data": {
      "text/plain": [
       "1"
      ]
     },
     "execution_count": 84,
     "metadata": {},
     "output_type": "execute_result"
    }
   ],
   "source": [
    "np.min(stats)"
   ]
  },
  {
   "cell_type": "code",
   "execution_count": 85,
   "metadata": {},
   "outputs": [
    {
     "data": {
      "text/plain": [
       "array([3, 6])"
      ]
     },
     "execution_count": 85,
     "metadata": {},
     "output_type": "execute_result"
    }
   ],
   "source": [
    "np.max(stats, axis=1)"
   ]
  },
  {
   "cell_type": "code",
   "execution_count": 87,
   "metadata": {},
   "outputs": [
    {
     "data": {
      "text/plain": [
       "array([ 6, 15])"
      ]
     },
     "execution_count": 87,
     "metadata": {},
     "output_type": "execute_result"
    }
   ],
   "source": [
    "np.sum(stats, axis=1)"
   ]
  },
  {
   "cell_type": "markdown",
   "metadata": {},
   "source": [
    "### Reorganizing Arrays"
   ]
  },
  {
   "cell_type": "code",
   "execution_count": 91,
   "metadata": {},
   "outputs": [
    {
     "name": "stdout",
     "output_type": "stream",
     "text": [
      "[[1 2 3 4]\n",
      " [5 6 7 8]]\n",
      "[[1]\n",
      " [2]\n",
      " [3]\n",
      " [4]\n",
      " [5]\n",
      " [6]\n",
      " [7]\n",
      " [8]]\n"
     ]
    }
   ],
   "source": [
    "before = np.array([[1,2,3,4],[5,6,7,8]])\n",
    "print(before)\n",
    "\n",
    "after = before.reshape(8,1)\n",
    "print(after)"
   ]
  },
  {
   "cell_type": "code",
   "execution_count": 92,
   "metadata": {},
   "outputs": [
    {
     "data": {
      "text/plain": [
       "array([[1, 2, 3, 4],\n",
       "       [5, 6, 7, 8],\n",
       "       [1, 2, 3, 4],\n",
       "       [5, 6, 7, 8]])"
      ]
     },
     "execution_count": 92,
     "metadata": {},
     "output_type": "execute_result"
    }
   ],
   "source": [
    "# Vertically stacking vectors\n",
    "v1 = np.array([1,2,3,4])\n",
    "v2 = np.array([5,6,7,8])\n",
    "\n",
    "np.vstack([v1,v2,v1,v2])"
   ]
  },
  {
   "cell_type": "code",
   "execution_count": null,
   "metadata": {},
   "outputs": [],
   "source": [
    "# Horizontal  stack\n",
    "h1 = np.ones((2,4))\n",
    "h2 = np.zeros((2,2))\n",
    "\n",
    "np.hstack((h1,h2))"
   ]
  },
  {
   "cell_type": "markdown",
   "metadata": {},
   "source": [
    "### Miscellaneous\n",
    "##### Load Data from File"
   ]
  },
  {
   "cell_type": "code",
   "execution_count": 94,
   "metadata": {},
   "outputs": [
    {
     "name": "stdout",
     "output_type": "stream",
     "text": [
      "[11  1  2  3 22 51]\n"
     ]
    }
   ],
   "source": [
    "filedata = np.genfromtxt('data.txt', delimiter=',')\n",
    "filedata = filedata.astype('int32')\n",
    "print(filedata)"
   ]
  },
  {
   "cell_type": "markdown",
   "metadata": {},
   "source": [
    "##### Boolean Masking and Advanced Indexing"
   ]
  },
  {
   "cell_type": "code",
   "execution_count": null,
   "metadata": {},
   "outputs": [],
   "source": [
    "(~((filedata > 50) & (filedata < 100)))"
   ]
  }
 ],
 "metadata": {
  "kernelspec": {
   "display_name": "Python 3",
   "language": "python",
   "name": "python3"
  },
  "language_info": {
   "codemirror_mode": {
    "name": "ipython",
    "version": 3
   },
   "file_extension": ".py",
   "mimetype": "text/x-python",
   "name": "python",
   "nbconvert_exporter": "python",
   "pygments_lexer": "ipython3",
   "version": "3.9.7"
  }
 },
 "nbformat": 4,
 "nbformat_minor": 2
}
