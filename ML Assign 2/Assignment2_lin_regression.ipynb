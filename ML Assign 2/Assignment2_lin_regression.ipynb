{
  "nbformat": 4,
  "nbformat_minor": 0,
  "metadata": {
    "colab": {
      "provenance": []
    },
    "kernelspec": {
      "name": "python3",
      "display_name": "Python 3"
    },
    "language_info": {
      "name": "python"
    }
  },
  "cells": [
    {
      "cell_type": "markdown",
      "source": [
        "# Linear Regression"
      ],
      "metadata": {
        "id": "GceB5H3pXdnS"
      }
    },
    {
      "cell_type": "code",
      "execution_count": 88,
      "metadata": {
        "id": "GNqIy9VwHKYD"
      },
      "outputs": [],
      "source": [
        "import pandas as pd\n",
        "import numpy as np"
      ]
    },
    {
      "cell_type": "code",
      "source": [
        "df = pd.read_csv(\"Housing.csv\")\n",
        "df"
      ],
      "metadata": {
        "id": "bxBowukWHoWB"
      },
      "execution_count": null,
      "outputs": []
    },
    {
      "cell_type": "code",
      "source": [
        "df.info()"
      ],
      "metadata": {
        "id": "685Gk69nHyhw"
      },
      "execution_count": null,
      "outputs": []
    },
    {
      "cell_type": "markdown",
      "source": [
        "### Importing Model"
      ],
      "metadata": {
        "id": "pDWqHKBuXn1J"
      }
    },
    {
      "cell_type": "code",
      "source": [
        "from sklearn.linear_model import LinearRegression"
      ],
      "metadata": {
        "id": "mVPEyWVdIIZ4"
      },
      "execution_count": 14,
      "outputs": []
    },
    {
      "cell_type": "code",
      "source": [
        "x = df.iloc[:,[1,2]]\n",
        "x"
      ],
      "metadata": {
        "id": "hjXKUj5kH0bs"
      },
      "execution_count": null,
      "outputs": []
    },
    {
      "cell_type": "code",
      "source": [
        "y = df.iloc[:,[0]]\n",
        "y"
      ],
      "metadata": {
        "id": "i9meiBM6J3v3"
      },
      "execution_count": null,
      "outputs": []
    },
    {
      "cell_type": "markdown",
      "source": [
        "#### creating regression's object"
      ],
      "metadata": {
        "id": "DrDlsgpdXweN"
      }
    },
    {
      "cell_type": "code",
      "source": [
        "model = LinearRegression()"
      ],
      "metadata": {
        "id": "jFgfSSfoJpTP"
      },
      "execution_count": 25,
      "outputs": []
    },
    {
      "cell_type": "markdown",
      "source": [
        "#### training"
      ],
      "metadata": {
        "id": "S0PfPlpLX9Xa"
      }
    },
    {
      "cell_type": "code",
      "source": [
        "model.fit(x,y)"
      ],
      "metadata": {
        "id": "SbwXkKSSJu8e"
      },
      "execution_count": null,
      "outputs": []
    },
    {
      "cell_type": "markdown",
      "source": [
        "#### prediction"
      ],
      "metadata": {
        "id": "I4NDYK7oYBET"
      }
    },
    {
      "cell_type": "code",
      "source": [
        "model.predict([[1000,3]])"
      ],
      "metadata": {
        "id": "Evj-Mc3wKTyP"
      },
      "execution_count": null,
      "outputs": []
    },
    {
      "cell_type": "markdown",
      "source": [
        "#### intercept or c in y = mx+c (linear regression equation)"
      ],
      "metadata": {
        "id": "QvI8QumjYEJz"
      }
    },
    {
      "cell_type": "code",
      "source": [
        "intercept = model.intercept_"
      ],
      "metadata": {
        "id": "iqZlQoDJW_Y6"
      },
      "execution_count": 93,
      "outputs": []
    },
    {
      "cell_type": "markdown",
      "source": [
        "slope or m"
      ],
      "metadata": {
        "id": "kzXDVsz4YVXz"
      }
    },
    {
      "cell_type": "code",
      "source": [
        "slope = model.coef_"
      ],
      "metadata": {
        "id": "vkucEsvxW6OE"
      },
      "execution_count": 92,
      "outputs": []
    },
    {
      "cell_type": "markdown",
      "source": [
        "R squared error"
      ],
      "metadata": {
        "id": "Iw4ActpEYXmi"
      }
    },
    {
      "cell_type": "code",
      "source": [
        "r2_error = model.score(x,y)"
      ],
      "metadata": {
        "id": "tGgOaYttKdL3"
      },
      "execution_count": 85,
      "outputs": []
    },
    {
      "cell_type": "markdown",
      "source": [
        "## Performing EDA"
      ],
      "metadata": {
        "id": "cCKuTu7lMONY"
      }
    },
    {
      "cell_type": "markdown",
      "source": [
        "#### Label Encoding"
      ],
      "metadata": {
        "id": "KFVzsnIAYc8Z"
      }
    },
    {
      "cell_type": "code",
      "source": [
        "# Import label encoder\n",
        "from sklearn import preprocessing"
      ],
      "metadata": {
        "id": "dnwChlr7MRof"
      },
      "execution_count": 35,
      "outputs": []
    },
    {
      "cell_type": "code",
      "source": [
        "label_encoder = preprocessing.LabelEncoder()"
      ],
      "metadata": {
        "id": "AhCq6AA_K5LA"
      },
      "execution_count": 36,
      "outputs": []
    },
    {
      "cell_type": "code",
      "source": [
        "processed_df = df\n",
        "df.head()"
      ],
      "metadata": {
        "id": "RoDLfBBYMp34"
      },
      "execution_count": null,
      "outputs": []
    },
    {
      "cell_type": "markdown",
      "source": [
        "### Label Encoding"
      ],
      "metadata": {
        "id": "L9C1Z8grNCHw"
      }
    },
    {
      "cell_type": "code",
      "source": [
        "processing_list = ['mainroad','guestroom','basement','hotwaterheating','airconditioning','prefarea','furnishingstatus']"
      ],
      "metadata": {
        "id": "sbnLA1HCOpM9"
      },
      "execution_count": 54,
      "outputs": []
    },
    {
      "cell_type": "code",
      "source": [
        "for col in processing_list:\n",
        "  processed_df[col]= label_encoder.fit_transform(processed_df[col])"
      ],
      "metadata": {
        "id": "3uawHedvPWVZ"
      },
      "execution_count": 56,
      "outputs": []
    },
    {
      "cell_type": "code",
      "source": [
        "processed_df"
      ],
      "metadata": {
        "id": "7z3HIFXDPrip"
      },
      "execution_count": null,
      "outputs": []
    },
    {
      "cell_type": "markdown",
      "source": [
        "#### Splitting the data in training and testing"
      ],
      "metadata": {
        "id": "shNT0JXLYmAT"
      }
    },
    {
      "cell_type": "code",
      "source": [
        "from sklearn.model_selection import train_test_split"
      ],
      "metadata": {
        "id": "DAEIM6PFOUtD"
      },
      "execution_count": 59,
      "outputs": []
    },
    {
      "cell_type": "code",
      "source": [
        "X_train, X_test, y_train, y_test = train_test_split(processed_df.drop(columns=['price']), processed_df['price'],test_size=0.2,random_state=2)\n",
        "X_train, X_test, y_train, y_test"
      ],
      "metadata": {
        "id": "xaAb4rlIQwdZ"
      },
      "execution_count": null,
      "outputs": []
    },
    {
      "cell_type": "markdown",
      "source": [
        "#### model training and testing"
      ],
      "metadata": {
        "id": "gybJgUi-YtQK"
      }
    },
    {
      "cell_type": "code",
      "source": [
        "model.fit(X_train,y_train)"
      ],
      "metadata": {
        "id": "yZ0KrmLVR-OU"
      },
      "execution_count": null,
      "outputs": []
    },
    {
      "cell_type": "code",
      "source": [
        "training_data_prediction = model.predict(X_train)"
      ],
      "metadata": {
        "id": "7BEvy0uaSLzt"
      },
      "execution_count": 73,
      "outputs": []
    },
    {
      "cell_type": "code",
      "source": [
        "model.score(X_train,y_train)"
      ],
      "metadata": {
        "colab": {
          "base_uri": "https://localhost:8080/"
        },
        "id": "CGO6fUnoSacR",
        "outputId": "269a24f5-93c4-45ff-8702-e693e4f8ed92"
      },
      "execution_count": 68,
      "outputs": [
        {
          "output_type": "execute_result",
          "data": {
            "text/plain": [
              "0.6884454072877346"
            ]
          },
          "metadata": {},
          "execution_count": 68
        }
      ]
    },
    {
      "cell_type": "markdown",
      "source": [
        "### Error Calculation"
      ],
      "metadata": {
        "id": "YV_T9rfbUprL"
      }
    },
    {
      "cell_type": "code",
      "source": [
        "from sklearn import metrics"
      ],
      "metadata": {
        "id": "FK1ms3UXSdaS"
      },
      "execution_count": 72,
      "outputs": []
    },
    {
      "cell_type": "code",
      "source": [
        "# R square error\n",
        "error_1 = metrics.r2_score(y_train, training_data_prediction)\n",
        "\n",
        "# Mean absolute error\n",
        "error_2 = metrics.mean_absolute_error(y_train, training_data_prediction)\n",
        "\n",
        "print('R squared error : ', error_1)\n",
        "print('Mean abs error : ', error_2)"
      ],
      "metadata": {
        "colab": {
          "base_uri": "https://localhost:8080/"
        },
        "id": "1qAwX7RwTTie",
        "outputId": "018edc43-270f-4998-ed40-3d72a1065173"
      },
      "execution_count": 74,
      "outputs": [
        {
          "output_type": "stream",
          "name": "stdout",
          "text": [
            "R squared error :  0.6884454072877346\n",
            "Mean abs error :  753162.9161507755\n"
          ]
        }
      ]
    },
    {
      "cell_type": "markdown",
      "source": [
        "### Graph Visualization"
      ],
      "metadata": {
        "id": "QB1FdR1XUu-y"
      }
    },
    {
      "cell_type": "code",
      "source": [
        "import matplotlib.pyplot as plt"
      ],
      "metadata": {
        "id": "VXBdR8BUUNTi"
      },
      "execution_count": 75,
      "outputs": []
    },
    {
      "cell_type": "code",
      "source": [
        "# plt.figure(figsize=(10,10))\n",
        "plt.scatter(y_train, training_data_prediction)\n",
        "plt.xlabel(\"Actual Prices\")\n",
        "plt.ylabel(\"Predicted Prices\")\n",
        "plt.title(\"Actual vs Predicted price\")\n",
        "# plt.show"
      ],
      "metadata": {
        "colab": {
          "base_uri": "https://localhost:8080/",
          "height": 489
        },
        "id": "KdpSVc_fUN8R",
        "outputId": "b6c49fea-0933-4b0f-8965-4d9358173458"
      },
      "execution_count": 90,
      "outputs": [
        {
          "output_type": "execute_result",
          "data": {
            "text/plain": [
              "Text(0.5, 1.0, 'Actual vs Predicted price')"
            ]
          },
          "metadata": {},
          "execution_count": 90
        },
        {
          "output_type": "display_data",
          "data": {
            "text/plain": [
              "<Figure size 640x480 with 1 Axes>"
            ],
            "image/png": "[encoded data removed]"
          },
          "metadata": {}
        }
      ]
    },
    {
      "cell_type": "code",
      "source": [
        "plt.scatter(y_train, training_data_prediction)\n",
        "plt.xlabel(\"Actual Prices\")\n",
        "plt.ylabel(\"Predicted Prices\")\n",
        "plt.title(\"Actual vs Predicted price\")\n",
        "\n",
        "# Fit the trend line\n",
        "z = np.polyfit(y_train, training_data_prediction, 1)\n",
        "p = np.poly1d(z)\n",
        "plt.plot(y_train,p(y_train),\"r--\")\n",
        "\n",
        "# Show the plot\n",
        "plt.show()"
      ],
      "metadata": {
        "colab": {
          "base_uri": "https://localhost:8080/",
          "height": 472
        },
        "id": "Y9yrFXAmU1rK",
        "outputId": "e0d328c3-f23a-481a-aeaa-0c7c83801292"
      },
      "execution_count": 91,
      "outputs": [
        {
          "output_type": "display_data",
          "data": {
            "text/plain": [
              "<Figure size 640x480 with 1 Axes>"
            ],
            "image/png": "[encoded data removed]"
          },
          "metadata": {}
        }
      ]
    }
  ]
}